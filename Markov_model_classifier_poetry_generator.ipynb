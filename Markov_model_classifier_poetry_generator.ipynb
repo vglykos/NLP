{
  "nbformat": 4,
  "nbformat_minor": 0,
  "metadata": {
    "colab": {
      "provenance": [],
      "authorship_tag": "ABX9TyOYJ6mrOlUml13I+yDD/E06",
      "include_colab_link": true
    },
    "kernelspec": {
      "name": "python3",
      "display_name": "Python 3"
    },
    "language_info": {
      "name": "python"
    }
  },
  "cells": [
    {
      "cell_type": "markdown",
      "metadata": {
        "id": "view-in-github",
        "colab_type": "text"
      },
      "source": [
        "<a href=\"https://colab.research.google.com/github/vglykos/NLP/blob/main/Markov_model_classifier_poetry_generator.ipynb\" target=\"_parent\"><img src=\"https://colab.research.google.com/assets/colab-badge.svg\" alt=\"Open In Colab\"/></a>"
      ]
    },
    {
      "cell_type": "code",
      "source": [
        "#libraries\n",
        "import numpy as np\n",
        "import matplotlib.pyplot as plt\n",
        "import string\n",
        "from sklearn.model_selection import train_test_split"
      ],
      "metadata": {
        "id": "cRAJfAZmDrWW"
      },
      "execution_count": 1,
      "outputs": []
    },
    {
      "cell_type": "code",
      "execution_count": 2,
      "metadata": {
        "colab": {
          "base_uri": "https://localhost:8080/"
        },
        "id": "B-418OCBDQi-",
        "outputId": "00e23bee-29e2-4731-cc9d-c2f34c39486f"
      },
      "outputs": [
        {
          "output_type": "stream",
          "name": "stdout",
          "text": [
            "--2022-12-16 06:55:16--  https://raw.githubusercontent.com/lazyprogrammer/machine_learning_examples/master/hmm_class/edgar_allan_poe.txt\n",
            "Resolving raw.githubusercontent.com (raw.githubusercontent.com)... 185.199.108.133, 185.199.109.133, 185.199.110.133, ...\n",
            "Connecting to raw.githubusercontent.com (raw.githubusercontent.com)|185.199.108.133|:443... connected.\n",
            "HTTP request sent, awaiting response... 200 OK\n",
            "Length: 26622 (26K) [text/plain]\n",
            "Saving to: ‘edgar_allan_poe.txt’\n",
            "\n",
            "edgar_allan_poe.txt 100%[===================>]  26.00K  --.-KB/s    in 0.001s  \n",
            "\n",
            "2022-12-16 06:55:16 (20.1 MB/s) - ‘edgar_allan_poe.txt’ saved [26622/26622]\n",
            "\n",
            "--2022-12-16 06:55:17--  https://raw.githubusercontent.com/lazyprogrammer/machine_learning_examples/master/hmm_class/robert_frost.txt\n",
            "Resolving raw.githubusercontent.com (raw.githubusercontent.com)... 185.199.108.133, 185.199.109.133, 185.199.110.133, ...\n",
            "Connecting to raw.githubusercontent.com (raw.githubusercontent.com)|185.199.108.133|:443... connected.\n",
            "HTTP request sent, awaiting response... 200 OK\n",
            "Length: 56286 (55K) [text/plain]\n",
            "Saving to: ‘robert_frost.txt’\n",
            "\n",
            "robert_frost.txt    100%[===================>]  54.97K  --.-KB/s    in 0.008s  \n",
            "\n",
            "2022-12-16 06:55:17 (7.16 MB/s) - ‘robert_frost.txt’ saved [56286/56286]\n",
            "\n"
          ]
        }
      ],
      "source": [
        "#import datasets\n",
        "!wget -nc https://raw.githubusercontent.com/lazyprogrammer/machine_learning_examples/master/hmm_class/edgar_allan_poe.txt\n",
        "!wget -nc https://raw.githubusercontent.com/lazyprogrammer/machine_learning_examples/master/hmm_class/robert_frost.txt\n"
      ]
    },
    {
      "cell_type": "code",
      "source": [
        "#print txt file contents\n",
        "\n",
        "# #Method 1\n",
        "# f = open('edgar_allan_poe.txt', 'r')\n",
        "# file_contents = f.read()\n",
        "# # print (file_contents)\n",
        "# print(type(file_contents))\n",
        "# print(len(file_contents))\n",
        "\n",
        "#Method 2\n",
        "!head edgar_allan_poe.txt"
      ],
      "metadata": {
        "colab": {
          "base_uri": "https://localhost:8080/"
        },
        "id": "SkKiV7xKE9f4",
        "outputId": "62507dfd-3b29-43e1-e7a1-0fa699089c75"
      },
      "execution_count": 3,
      "outputs": [
        {
          "output_type": "stream",
          "name": "stdout",
          "text": [
            "LO! Death hath rear'd himself a throne\n",
            "In a strange city, all alone,\n",
            "Far down within the dim west\n",
            "Where the good, and the bad, and the worst, and the best,\n",
            "Have gone to their eternal rest.\n",
            " \n",
            "There shrines, and palaces, and towers\n",
            "Are not like any thing of ours\n",
            "Oh no! O no! ours never loom\n",
            "To heaven with that ungodly gloom!\n"
          ]
        }
      ]
    },
    {
      "cell_type": "code",
      "source": [
        "!head robert_frost.txt"
      ],
      "metadata": {
        "colab": {
          "base_uri": "https://localhost:8080/"
        },
        "id": "FjhPt0RlEnFk",
        "outputId": "ef28f0ec-cfa1-468e-f1b5-3f4bde4d09f4"
      },
      "execution_count": 4,
      "outputs": [
        {
          "output_type": "stream",
          "name": "stdout",
          "text": [
            "Two roads diverged in a yellow wood,\n",
            "And sorry I could not travel both\n",
            "And be one traveler, long I stood\n",
            "And looked down one as far as I could\n",
            "To where it bent in the undergrowth; \n",
            "\n",
            "Then took the other, as just as fair,\n",
            "And having perhaps the better claim\n",
            "Because it was grassy and wanted wear,\n",
            "Though as for that the passing there\n"
          ]
        }
      ]
    },
    {
      "cell_type": "code",
      "source": [
        "#the docs contain capitalization, panctuation, empty lines"
      ],
      "metadata": {
        "id": "GZrJPBxbF0vB"
      },
      "execution_count": 5,
      "outputs": []
    },
    {
      "cell_type": "code",
      "source": [
        "# Next! \n",
        "#collect data from both poems\n",
        "#Treat them line by line and put them all together.\n",
        "#for every line remove punctuation, lowercase, and remove \\n\n",
        "#In the end we have a list of strings and a list of poem labels\n",
        " \n",
        "input_files = [\"edgar_allan_poe.txt\" , \"robert_frost.txt\"]\n",
        "\n",
        "input_texts = []\n",
        "labels = []\n",
        "\n",
        "for label, f in enumerate(input_files):\n",
        "    print(\"text |{}| corresponds to label {}\" .format(f , label))\n",
        "\n",
        "    for line in open(f):\n",
        "        line = line.rstrip().lower() #lowecase the characters & remove the \\n\n",
        "        if line:\n",
        "            #remove punctuation\n",
        "            line = line.translate(str.maketrans(\"\" , \"\" , string.punctuation ))\n",
        "            # print(line)\n",
        "            input_texts.append(line)\n",
        "            labels.append(label)\n"
      ],
      "metadata": {
        "colab": {
          "base_uri": "https://localhost:8080/"
        },
        "id": "pKMZDi_7GHhI",
        "outputId": "1d6a0c3f-708c-46fd-96b9-3d84f451ede7"
      },
      "execution_count": 6,
      "outputs": [
        {
          "output_type": "stream",
          "name": "stdout",
          "text": [
            "text |edgar_allan_poe.txt| corresponds to label 0\n",
            "text |robert_frost.txt| corresponds to label 1\n"
          ]
        }
      ]
    },
    {
      "cell_type": "code",
      "source": [
        "#We must split the dataset before tokenizing. \n",
        "#If in the testset some words are not train, then so be it. \n",
        "#These words should be \"unknown\"\n",
        "train_text , test_text , Ytrain , Ytest = train_test_split(input_texts , labels)\n",
        "print(len(Ytrain))\n",
        "print(len(Ytest))"
      ],
      "metadata": {
        "colab": {
          "base_uri": "https://localhost:8080/"
        },
        "id": "pO_CKhmQM1Xq",
        "outputId": "1930c173-be9a-4047-d7ca-86e21115ac39"
      },
      "execution_count": 7,
      "outputs": [
        {
          "output_type": "stream",
          "name": "stdout",
          "text": [
            "1615\n",
            "539\n"
          ]
        }
      ]
    },
    {
      "cell_type": "code",
      "source": [
        "train_text[:10]"
      ],
      "metadata": {
        "colab": {
          "base_uri": "https://localhost:8080/"
        },
        "id": "UFAws6VUOEvF",
        "outputId": "8b6c4a3b-2b87-40fe-f95b-2a3512682821"
      },
      "execution_count": 8,
      "outputs": [
        {
          "output_type": "execute_result",
          "data": {
            "text/plain": [
              "['the very hours are breathing low',\n",
              " 'i had a glimpse through curtain laces',\n",
              " 'son mother can make a common table rear',\n",
              " 'where no wind dared to stir unless on tiptoe',\n",
              " 'the faintest restless rustling ran all through them',\n",
              " 'i wonder what those signals are',\n",
              " 'come straight down off this mountain just as fast',\n",
              " 'with our arms at the level of our knees',\n",
              " 'goodlooking books like that he picked one fresh',\n",
              " 'and would suffice']"
            ]
          },
          "metadata": {},
          "execution_count": 8
        }
      ]
    },
    {
      "cell_type": "code",
      "source": [
        "Ytrain[:10]"
      ],
      "metadata": {
        "colab": {
          "base_uri": "https://localhost:8080/"
        },
        "id": "e8jOPWPnOPd3",
        "outputId": "50b8e186-037d-470f-cdfb-cc5910305d44"
      },
      "execution_count": 9,
      "outputs": [
        {
          "output_type": "execute_result",
          "data": {
            "text/plain": [
              "[0, 1, 1, 0, 1, 1, 1, 1, 1, 1]"
            ]
          },
          "metadata": {},
          "execution_count": 9
        }
      ]
    },
    {
      "cell_type": "code",
      "source": [
        "#word2idx\n",
        "\n",
        "idx = 1\n",
        "word2idx = {\"<unk>\" : 0} #the unknown words in the testset will have index 0\n",
        "\n",
        "for text in train_text:\n",
        "    tokens = text.split() #or word_tokenize\n",
        "    for token in tokens:\n",
        "        if token not in word2idx:\n",
        "            word2idx[token] = idx\n",
        "            idx += 1 "
      ],
      "metadata": {
        "id": "ikn7BJnKOWK3"
      },
      "execution_count": 10,
      "outputs": []
    },
    {
      "cell_type": "code",
      "source": [
        "print(type(word2idx))\n",
        "print(len(word2idx))"
      ],
      "metadata": {
        "colab": {
          "base_uri": "https://localhost:8080/"
        },
        "id": "OthERCoAP-sZ",
        "outputId": "9ee315b0-320e-4b9f-b347-88a9d5d10f6b"
      },
      "execution_count": 11,
      "outputs": [
        {
          "output_type": "stream",
          "name": "stdout",
          "text": [
            "<class 'dict'>\n",
            "2508\n"
          ]
        }
      ]
    },
    {
      "cell_type": "code",
      "source": [
        "#Before we tokenized the train corpus and assigned for each token of the vocabulary a unique index\n",
        "#Now we will use this indexing map to transform the lines of text into lines of integers (indeces)\n",
        "train_text_int = []\n",
        "test_text_int = []\n",
        "\n",
        "for text in train_text:\n",
        "    tokens = text.split()\n",
        "    line_as_int = [word2idx.get(token) for token in tokens]\n",
        "    train_text_int.append(line_as_int)\n",
        "\n",
        "for text in test_text:\n",
        "    tokens = text.split()\n",
        "    line_as_int = [word2idx.get(token , 0) for token in tokens]\n",
        "    test_text_int.append(line_as_int)"
      ],
      "metadata": {
        "id": "ikhcP1-KQpT_"
      },
      "execution_count": 12,
      "outputs": []
    },
    {
      "cell_type": "code",
      "source": [
        "print(train_text_int[0])\n",
        "print(train_text[0])\n",
        "print(word2idx)"
      ],
      "metadata": {
        "colab": {
          "base_uri": "https://localhost:8080/"
        },
        "id": "i2xkNF2CUaTO",
        "outputId": "cfd3f94e-8abb-4da5-a0c4-e26f2ac0536d"
      },
      "execution_count": 13,
      "outputs": [
        {
          "output_type": "stream",
          "name": "stdout",
          "text": [
            "[1, 2, 3, 4, 5, 6]\n",
            "the very hours are breathing low\n",
            "{'<unk>': 0, 'the': 1, 'very': 2, 'hours': 3, 'are': 4, 'breathing': 5, 'low': 6, 'i': 7, 'had': 8, 'a': 9, 'glimpse': 10, 'through': 11, 'curtain': 12, 'laces': 13, 'son': 14, 'mother': 15, 'can': 16, 'make': 17, 'common': 18, 'table': 19, 'rear': 20, 'where': 21, 'no': 22, 'wind': 23, 'dared': 24, 'to': 25, 'stir': 26, 'unless': 27, 'on': 28, 'tiptoe': 29, 'faintest': 30, 'restless': 31, 'rustling': 32, 'ran': 33, 'all': 34, 'them': 35, 'wonder': 36, 'what': 37, 'those': 38, 'signals': 39, 'come': 40, 'straight': 41, 'down': 42, 'off': 43, 'this': 44, 'mountain': 45, 'just': 46, 'as': 47, 'fast': 48, 'with': 49, 'our': 50, 'arms': 51, 'at': 52, 'level': 53, 'of': 54, 'knees': 55, 'goodlooking': 56, 'books': 57, 'like': 58, 'that': 59, 'he': 60, 'picked': 61, 'one': 62, 'fresh': 63, 'and': 64, 'would': 65, 'suffice': 66, 'wanted': 67, 'put': 68, 'out': 69, 'light': 70, 'see': 71, 'my': 72, 'grave': 73, 'is': 74, 'growing': 75, 'or': 76, 'grown': 77, 'porphyrogene': 78, 'two': 79, 'weeks': 80, 'since': 81, 'small': 82, 'good': 83, 'anything': 84, 'wild': 85, 'so': 86, 'was': 87, 'back': 88, 'shes': 89, 'bad': 90, 'thats': 91, 'particular': 92, 'time': 93, 'oclock': 94, 'lifted': 95, 'rug': 96, 'bred': 97, 'floor': 98, 'which': 99, 'wasnt': 100, 'many': 101, 'in': 102, 'town': 103, 'wentworth': 104, 'toffile': 105, 'get': 106, 'nails': 107, 'made': 108, 'him': 109, 'nail': 110, 'door': 111, 'shut': 112, 'his': 113, 'voice': 114, 'mute': 115, 'but': 116, 'cottages': 117, 'row': 118, 'wings': 119, 'until': 120, 'they': 121, 'trailed': 122, 'dust': 123, 'call': 124, 'her': 125, 'nausicaa': 126, 'unafraid': 127, 'soul': 128, 'least': 129, 'solace': 130, 'hath': 131, 'she': 132, 'aint': 133, 'from': 134, 'kiting': 135, 'yet': 136, 'counting': 137, 'winter': 138, 'dinners': 139, 'hill': 140, 'you': 141, 'let': 142, 'me': 143, 'say': 144, 'it': 145, 'consideration': 146, 'bright': 147, 'idea': 148, 'deareye': 149, 'feather': 150, 'not': 151, 'sink': 152, 'under': 153, 'being': 154, 'man': 155, 'wife': 156, 'wheres': 157, 'john': 158, 'want': 159, 'truth': 160, 'speak': 161, 'by': 162, 'voices': 163, 'bells': 164, 'bearing': 165, 'done': 166, 'detail': 167, 'fervor': 168, 'thy': 169, 'lute': 170, 'roads': 171, 'diverged': 172, 'wood': 173, 'while': 174, 'bolder': 175, 'note': 176, 'than': 177, 'might': 178, 'swell': 179, 'talkedof': 180, 'mystery': 181, 'birth': 182, 'charge': 183, 'upstart': 184, 'inexperience': 185, 'must': 186, 'be': 187, 'right': 188, 'leave': 189, 'could': 190, 'hear': 191, 'tell': 192, 'scarified': 193, 'sun': 194, 'did': 195, 'rivulets': 196, 'run': 197, 'shell': 198, 'bless': 199, 'im': 200, 'admiring': 201, 'natures': 202, 'universal': 203, 'throne': 204, 'ask': 205, 'if': 206, 'there': 207, 'some': 208, 'mistake': 209, 'yawning': 210, 'lenses': 211, 'picking': 212, 'faded': 213, 'blue': 214, 'heard': 215, 'didnt': 216, 'seem': 217, 'go': 218, 'now': 219, 'way': 220, 'leg': 221, 'crutch': 222, 'nothings': 223, 'too': 224, 'for': 225, 'we': 226, 'pays': 227, 'far': 228, 'within': 229, 'dim': 230, 'west': 231, 'arthur': 232, 'amys': 233, 'having': 234, 'once': 235, 'been': 236, 'up': 237, 'houses': 238, 'left': 239, 'transfixed': 240, 'slopes': 241, 'almost': 242, 'erect': 243, 'then': 244, 'came': 245, 'hand': 246, 'outstretched': 247, 'always': 248, 'papered': 249, 'walls': 250, 'shift': 251, 'shelter': 252, 'without': 253, 'help': 254, 'matter': 255, 'how': 256, 'times': 257, 'theres': 258, 'dite': 259, 'comfort': 260, 'pretty': 261, 'things': 262, 'outdoors': 263, 'behind': 264, 'mountains': 265, 'miles': 266, 'before': 267, 'sleep': 268, 'earnest': 269, 'appears': 270, 'night': 271, 'senescent': 272, 'poetess': 273, 'who': 274, 'wrote': 275, 'book': 276, 'verses': 277, 'quietude': 278, 'sultriness': 279, 'slumber': 280, 'leaves': 281, 'were': 282, 'withering': 283, 'sere': 284, 'long': 285, 'ago': 286, 'its': 287, 'ashes': 288, 'whence': 289, 'will': 290, 'spring': 291, 'grow': 292, 'dont': 293, 'joe': 294, 'flickers': 295, 'heaven': 296, 'upon': 297, 'faroff': 298, 'happier': 299, 'sea': 300, 'sometimes': 301, 'something': 302, 'seemed': 303, 'yield': 304, 'doth': 305, 'oer': 306, 'us': 307, 'pass': 308, 'when': 309, 'th': 310, 'expanding': 311, 'eye': 312, 'softmurmured': 313, 'words': 314, 'fulfilled': 315, 'think': 316, 'much': 317, 'over': 318, 'descended': 319, 'believe': 320, 'playhouse': 321, 'house': 322, 'best': 323, 'bard': 324, 'because': 325, 'wisest': 326, 'hall': 327, 'only': 328, 'finished': 329, 'bedroom': 330, 'joy': 331, 'wo': 332, 'ill': 333, 'warren': 334, 'march': 335, 'meeting': 336, 'reason': 337, 'nonsense': 338, 'whats': 339, 'fifteen': 340, 't': 341, 'awake': 342, 'tis': 343, 'symbol': 344, 'token': 345, 'woods': 346, 'excitement': 347, 'utmost': 348, 'star': 349, 'introduce': 350, 'people': 351, 'plowed': 352, 'ground': 353, 'cold': 354, 'digger': 355, 'nor': 356, 'never': 357, 'thinking': 358, 'twas': 359, 'have': 360, 'money': 361, 'stood': 362, 'still': 363, 'stopped': 364, 'sound': 365, 'feet': 366, 'old': 367, 'am': 368, 'going': 369, 'myself': 370, 'into': 371, 'cellar': 372, 'pens': 373, 'thrills': 374, 'legitimately': 375, 'demand': 376, 'spirit': 377, 'knew': 378, 'hour': 379, 'show': 380, 'remember': 381, 'coming': 382, 'ryans': 383, 'thought': 384, 'ah': 385, 'safely': 386, 'may': 387, 'trust': 388, 'gleaming': 389, 'whether': 390, 'strolled': 391, 'thither': 392, 'expecting': 393, 'find': 394, 'didst': 395, 'glide': 396, 'away': 397, 'thine': 398, 'eyes': 399, 'remained': 400, 'bout': 401, 'took': 402, 'home': 403, 'their': 404, 'melancholy': 405, 'throats': 406, 'uttered': 407, 'alone': 408, 'however': 409, 'natural': 410, 'give': 411, 'your': 412, 'beauty': 413, 'god': 414, 'towers': 415, 'thrown': 416, 'aside': 417, 'though': 418, 'stop': 419, 'wet': 420, 'stampede': 421, 'brown': 422, 'lived': 423, 'such': 424, 'lofty': 425, 'farm': 426, 'rain': 427, 'spoiled': 428, 'day': 429, 'began': 430, 'uncertain': 431, 'talk': 432, 'serious': 433, 'sober': 434, 'buttonbox': 435, 'little': 436, 'boy': 437, 'strapping': 438, 'girl': 439, 'twenty': 440, 'hearthistories': 441, 'enwritten': 442, 'summoning': 443, 'spirits': 444, 'isnt': 445, 'button': 446, 'standing': 447, 'river': 448, 'road': 449, 'nose': 450, 'same': 451, 'sos': 452, 'chin': 453, 'own': 454, 'power': 455, 'seems': 456, 'undone': 457, 'mustnt': 458, 'bear': 459, 'hard': 460, 'new': 461, 'comers': 462, 'why': 463, 'cant': 464, 'decently': 465, 'refuse': 466, 'sulphurous': 467, 'currents': 468, 'yaanek': 469, 'thinks': 470, 'live': 471, 'shining': 472, 'snow': 473, 'listened': 474, 'till': 475, 'climbed': 476, 'stairs': 477, 'whir': 478, 'birds': 479, 'used': 480, 'here': 481, 'robinsons': 482, 'terror': 483, 'spoke': 484, 'letting': 485, 'built': 486, 'stone': 487, 'baptismal': 488, 'font': 489, 'bowed': 490, 'outward': 491, 'halfway': 492, 'smoothlaid': 493, 'thatch': 494, 'heavy': 495, 'dew': 496, 'other': 497, 'yes': 498, 'getting': 499, 'gold': 500, 'sunshine': 501, 'went': 502, 'fathomless': 503, 'capacity': 504, 'love': 505, 'lane': 506, 'married': 507, 'cannot': 508, 'guide': 509, 'aright': 510, 'vulture': 511, 'whose': 512, 'dull': 513, 'realities': 514, 'mean': 515, 'skulls': 516, 'rogers': 517, 'rangers': 518, 'meaning': 519, 'heart': 520, 'grew': 521, 'ashen': 522, 'anywhere': 523, 'tent': 524, 'pegged': 525, 'name': 526, 'flowers': 527, 'sure': 528, 'werent': 529, 'amy': 530, 'kept': 531, 'hidden': 532, 'instep': 533, 'arch': 534, 'sacred': 535, 'weeping': 536, 'thee': 537, 'winds': 538, 'rouse': 539, 'headshake': 540, '‘tis': 541, 'vault': 542, 'lost': 543, 'ulalume': 544, 'shrine': 545, 'pocket': 546, 'suddenly': 547, 'jerk': 548, 'twitch': 549, 'ideas': 550, 'havent': 551, 'tried': 552, 'take': 553, 'year': 554, 'doesnt': 555, 'albeit': 556, 'soared': 557, 'an': 558, 'undaunted': 559, 'wing': 560, 'should': 561, 'quarry': 562, 'breath': 563, 'air': 564, 'died': 565, 'someday': 566, 'has': 567, 'difference': 568, 'nothing': 569, 'stay': 570, 'lifes': 571, 'victories': 572, 'doubt': 573, 'nearest': 574, 'resembles': 575, 'worship': 576, 'oh': 577, 'couldnt': 578, 'does': 579, 'well': 580, 'save': 581, 'unthoughtlike': 582, 'thoughts': 583, 'souls': 584, 'even': 585, 'summer': 586, 'grass': 587, 'brook': 588, 'below': 589, 'yard': 590, 'speaking': 591, 'singing': 592, 'bandmusic': 593, 'playing': 594, 'trembling': 595, 'living': 596, 'wire': 597, 'unembodied': 598, 'essence': 599, 'more': 600, 'relish': 601, 'along': 602, 'first': 603, 'grassy': 604, 'wear': 605, 'hed': 606, 'likes': 607, 'entombed': 608, 'hopes': 609, 'truly': 610, 'men': 611, 'earth': 612, 'know': 613, 'strange': 614, 'enough': 615, 'motionless': 616, 'golden': 617, 'stand': 618, 'perplexed': 619, 'acquainted': 620, 'astartes': 621, 'bediamonded': 622, 'crescent': 623, 'care': 624, 'himself': 625, 'tongue': 626, 'fire': 627, 'makes': 628, 'head': 629, 'spin': 630, 'shelfs': 631, 'clock': 632, 'vase': 633, 'picture': 634, 'geese': 635, 'lake': 636, 'storm': 637, 'hole': 638, 'byroad': 639, 'happen': 640, 'prefer': 641, 'doubted': 642, 'ever': 643, 'thatd': 644, 'last': 645, 'days': 646, 'ridiculous': 647, 'point': 648, 'path': 649, 'skies': 650, 'turn': 651, 'round': 652, 'got': 653, 'saying': 654, 'meddle': 655, 'fate': 656, 'past': 657, 'both': 658, 'father': 659, 'neither': 660, 'seen': 661, 'tears': 662, 'dry': 663, 'trembled': 664, 'stirred': 665, 'sorry': 666, 'judged': 667, 'crystal': 668, 'chill': 669, 'idled': 670, 'destination': 671, 'destinys': 672, 'wreathed': 673, 'myrtle': 674, 'sword': 675, 'conceal': 676, 'write': 677, 'estelles': 678, 'settled': 679, 'infant': 680, 'astride': 681, 'legended': 682, 'tomb': 683, 'smarty': 684, 'someone': 685, 'everything': 686, 'sinners': 687, 'sacrifice': 688, 'remembering': 689, 'business': 690, 'firsts': 691, 'attic': 692, 'woman': 693, 'afterward': 694, 'fist': 695, 'buried': 696, 'bushy': 697, 'hide': 698, 'gather': 699, 'berries': 700, 'hasten': 701, 'linger': 702, 'replied': 703, 'dreaming': 704, 'headboard': 705, 'bed': 706, 'pauses': 707, 'furniture': 708, 'flight': 709, 'kitchen': 710, 'whom': 711, 'these': 712, 'cheeks': 713, 'worm': 714, 'dies': 715, 'stopping': 716, 'any': 717, 'vision': 718, 'together': 719, 'sybilic': 720, 'splendor': 721, 'beaming': 722, 'brushed': 723, 'across': 724, 'mind': 725, 'secret': 726, 'communing': 727, 'held': 728, 'stifling': 729, 'hot': 730, 'odor': 731, 'sap': 732, 'perhaps': 733, 'word': 734, 'about': 735, 'weather': 736, 'miraculous': 737, 'seven': 738, 'years': 739, 'springs': 740, 'rivers': 741, 'barkless': 742, 'spectre': 743, 'halted': 744, 'property': 745, 'wall': 746, 'burns': 747, 'sunny': 748, 'cheek': 749, 'johns': 750, 'fullorbed': 751, 'moon': 752, 'soaring': 753, 'garden': 754, 'enchanted': 755, 'advantage': 756, 'lifts': 757, 'existence': 758, 'plane': 759, 'monarch': 760, 'dominion': 761, 'rightly': 762, 'sprung': 763, 'turned': 764, 'repented': 765, 'evil': 766, 'robes': 767, 'sorrow': 768, 'hes': 769, 'setting': 770, 'traps': 771, 'themselves': 772, 'daylight': 773, 'rockstrewn': 774, 'farming': 775, 'fallen': 776, 'dank': 777, 'tarn': 778, 'auber': 779, 'stardials': 780, 'hinted': 781, 'morn': 782, 'climb': 783, 'slippery': 784, 'slope': 785, 'fine': 786, 'fibrils': 787, 'life': 788, 'feared': 789, 'seek': 790, 'treasure': 791, 'jewelled': 792, 'resurrection': 793, 'deepburied': 794, 'faith': 795, 'noon': 796, 'twilight': 797, 'brought': 798, 'dread': 799, 'burden': 800, 'cliff': 801, 'bottle': 802, 'painted': 803, 'whirling': 804, 'frenzies': 805, 'otherwise': 806, 'fall': 807, 'whole': 808, 'witchs': 809, 'motto': 810, 'anyway': 811, 'radiant': 812, 'palace': 813, 'reared': 814, 'lyre': 815, 'sky': 816, 'runs': 817, 'unbridled': 818, 'course': 819, 'unusual': 820, 'strings': 821, 'dark': 822, 'flooded': 823, 'wanderers': 824, 'happy': 825, 'valley': 826, 'single': 827, 'leaf': 828, 'bough': 829, 'absence': 830, 'bring': 831, 'chalkpile': 832, 'crew': 833, 'failed': 834, 'lying': 835, 'die': 836, 'arisen': 837, 'front': 838, 'every': 839, 'grafton': 840, 'county': 841, 'said': 842, 'bush': 843, 'peas': 844, 'concerned': 845, 'saw': 846, 'family': 847, 'troubles': 848, 'palsied': 849, 'preyest': 850, 'thou': 851, 'thus': 852, 'poets': 853, 'wander': 854, 'beaten': 855, 'ways': 856, 'ghoulhaunted': 857, 'woodland': 858, 'weir': 859, 'ghost—': 860, 'ruler': 861, 'realm': 862, 'gets': 863, 'possessed': 864, 'keep': 865, 'accounts': 866, 'child': 867, 'comes': 868, 'do': 869, 'age': 870, 'lie': 871, 'tree': 872, 'beside': 873, 'stands': 874, 'bare': 875, 'fur': 876, 'trade': 877, 'yourself': 878, 'field': 879, 'bill': 880, 'maria': 881, 'hast': 882, 'hymn': 883, 'wont': 884, 'ought': 885, 'confusion': 886, 'either': 887, 'cloud': 888, 'smoke': 889, 'angel': 890, 'trod': 891, 'watch': 892, 'fill': 893, 'city': 894, 'lizard': 895, 'end': 896, 'ray': 897, 'purer': 898, 'oracle': 899, 'thence': 900, 'numerous': 901, 'tribe': 902, 'weep': 903, 'glad': 904, 'luminous': 905, 'poor': 906, 'better': 907, 'pen': 908, 'falls': 909, 'powerless': 910, 'shivering': 911, 'hell': 912, 'wrong': 913, 'nighttime': 914, 'set': 915, 'lot': 916, 'record': 917, 'nearer': 918, 'overhead': 919, 'flew': 920, 'brightly': 921, 'place': 922, 'cutting': 923, 'trees': 924, 'warmer': 925, 'dian': 926, 'really': 927, 'became': 928, 'man—': 929, 'lantern': 930, 'chores': 931, 'hiding': 932, 'somewhere': 933, 'darkly': 934, 'present': 935, 'braced': 936, 'against': 937, 'arctic': 938, 'pole': 939, 'looked': 940, 'saddest': 941, 'another': 942, 'street': 943, 'shaded': 944, 'wit': 945, 'wisdom': 946, 'king': 947, 'o': 948, 'ours': 949, 'loom': 950, 'likely': 951, 'regard': 952, 'crisped': 953, 'half': 954, 'boring': 955, 'climbing': 956, 'begin': 957, 'shed': 958, 'mounted': 959, 'walk': 960, 'pretend': 961, 'dear': 962, 'knows': 963, 'interest': 964, 'blow': 965, 'selfclear': 966, 'earlier': 967, 'tide': 968, 'tatters': 969, 'hung': 970, 'barb': 971, 'thorn': 972, 'tempt': 973, 'waters': 974, 'friends': 975, 'water': 976, 'fathers': 977, 'side': 978, 'blew': 979, 'icy': 980, 'crust': 981, 'hawks': 982, 'chickentime': 983, 'sills': 984, 'extended': 985, 'literally': 986, 'fair': 987, 'silver': 988, 'often': 989, 'forget': 990, 'lone': 991, 'eden': 992, 'bland': 993, 'repose': 994, 'dropped': 995, 'soon': 996, 'satisfied': 997, 'open': 998, 'places': 999, 'bleak': 1000, 'swept': 1001, 'heavens': 1002, 'turning': 1003, 'heel': 1004, 'ive': 1005, 'famous': 1006, 'simply': 1007, 'lay': 1008, 'descent': 1009, 'downstairs': 1010, 'ahead': 1011, 'foot': 1012, 'accept': 1013, 'substitute': 1014, 'empty': 1015, 'felt': 1016, 'warm': 1017, 'tottering': 1018, 'above': 1019, 'estelle': 1020, 'wearing': 1021, 'deep': 1022, 'feeling': 1023, 'crown': 1024, 'bulkhead': 1025, 'doubledoors': 1026, 'doublelocked': 1027, 'mighty': 1028, 'childrens': 1029, 'makebelieve': 1030, 'shudder': 1031, 'notes': 1032, 'dignity': 1033, 'mien': 1034, 'shouted': 1035, 'remembered': 1036, 'united': 1037, 'strengths': 1038, 'champions': 1039, 'devoted': 1040, 'brave': 1041, 'sort': 1042, 'bird': 1043, 'angelic': 1044, 'gift': 1045, 'grace': 1046, 'burned': 1047, 'stake': 1048, 'science': 1049, 'true': 1050, 'daughter': 1051, 'art': 1052, 'doll': 1053, 'pasture': 1054, 'rig': 1055, 'shoulders': 1056, 'dragging': 1057, 'yellow': 1058, 'strands': 1059, 'fell': 1060, 'upturnd': 1061, 'faces': 1062, 'roses': 1063, 'short': 1064, 'sell': 1065, 'godliness': 1066, 'baby': 1067, 'gave': 1068, 'pretense': 1069, 'keeping': 1070, 'covered': 1071, 'imagine': 1072, 'lurid': 1073, 'rolled': 1074, 'inside': 1075, 'sockets': 1076, 'need': 1077, 'object': 1078, 'hid': 1079, 'threatener': 1080, 'higher': 1081, 'lethean': 1082, 'peace': 1083, 'sew': 1084, 'windbreak': 1085, 'looking': 1086, 'try': 1087, 'starks': 1088, 'doubtless': 1089, 'today': 1090, 'fly': 1091, 'carried': 1092, 'itself': 1093, 'pile': 1094, 'dishes': 1095, 'witch': 1096, 'id': 1097, 'milk': 1098, 'bat': 1099, 'among': 1100, 'sounds': 1101, 'sparkling': 1102, 'evermore': 1103, 'found': 1104, 'folk': 1105, 'big': 1106, 'church': 1107, 'organ': 1108, 'assailed': 1109, 'monarchs': 1110, 'high': 1111, 'estate': 1112, 'else': 1113, 'mow': 1114, 'room': 1115, 'politician': 1116, 'odd': 1117, 'seasons': 1118, 'tall': 1119, 'hades': 1120, 'thousand': 1121, 'thrones': 1122, 'eat': 1123, 'barrel': 1124, 'shine': 1125, 'scoriac': 1126, 'roll': 1127, 'journey': 1128, 'swear': 1129, 'awful': 1130, 'someones': 1131, 'work': 1132, 'helpless': 1133, 'landing': 1134, 'shall': 1135, 'telling': 1136, 'sigh': 1137, 'looks': 1138, 'tomorrow': 1139, 'rains': 1140, 'aknown': 1141, 'young': 1142, 'newcut': 1143, 'narrow': 1144, 'gap': 1145, 'deem': 1146, 'wise': 1147, 'lingered': 1148, 'shatter': 1149, 'inward': 1150, 'unswept': 1151, 'floors': 1152, 'sense': 1153, 'story': 1154, 'mockery': 1155, 'boast': 1156, 'holy': 1157, 'touch': 1158, 'donkeys': 1159, 'ears': 1160, 'suggest': 1161, 'shake': 1162, 'waves': 1163, 'gone': 1164, 'witherd': 1165, 'rose': 1166, 'struck': 1167, 'bottom': 1168, 'thrive': 1169, 'appear': 1170, 'wrought': 1171, 'strength': 1172, 'subdued': 1173, 'after': 1174, 'send': 1175, 'sailing': 1176, 'window': 1177, 'broken': 1178, 'drinking': 1179, 'goblet': 1180, 'grail': 1181, 'also': 1182, 'great': 1183, 'near': 1184, 'paradise': 1185, 'second': 1186, 'curving': 1187, 'hillside': 1188, 'sweetly': 1189, 'scintillant': 1190, 'sweet': 1191, 'dreams': 1192, 'volcanic': 1193, 'streams': 1194, 'aroused': 1195, 'month': 1196, 'october': 1197, 'evening': 1198, 'passing': 1199, 'car': 1200, 'arose': 1201, 'human': 1202, 'brain': 1203, 'rests': 1204, 'cut': 1205, 'stark': 1206, 'member': 1207, 'sake': 1208, 'company': 1209, 'throw': 1210, 'screen': 1211, 'shook': 1212, 'iles': 1213, 'january': 1214, 'thaw': 1215, 'between': 1216, 'barn': 1217, 'gale': 1218, 'crooking': 1219, 'trillium': 1220, 'checked': 1221, 'pace': 1222, 'cypress': 1223, 'roamed': 1224, 'drag': 1225, 'watched': 1226, 'forty': 1227, 'holes': 1228, 'poetesss': 1229, 'melt': 1230, 'start': 1231, 'dormant': 1232, 'boss': 1233, 'hens': 1234, 'defeat': 1235, 'youll': 1236, 'pity': 1237, 'proclaimed': 1238, 'theyve': 1239, 'harmodious': 1240, 'gallant': 1241, 'important': 1242, 'whos': 1243, 'caught': 1244, 'opening': 1245, 'covers': 1246, 'separate': 1247, 'coops': 1248, 'plumage': 1249, 'improve': 1250, 'tile': 1251, 'wonderful': 1252, 'plan': 1253, 'danger': 1254, 'loss': 1255, 'sitting': 1256, 'chose': 1257, 'waiting': 1258, 'effect': 1259, 'psyche': 1260, 'strung': 1261, 'hair': 1262, 'hurt': 1263, 'look': 1264, 'raspberry': 1265, 'vines': 1266, 'silently': 1267, 'serene': 1268, 'pride': 1269, 'thered': 1270, 'boston': 1271, 'headless': 1272, 'aftermath': 1273, 'hold': 1274, 'bones': 1275, 'changed': 1276, 'garlands': 1277, 'rapid': 1278, 'pleiads': 1279, 'passed': 1280, 'windows': 1281, 'banked': 1282, 'sawdust': 1283, 'turrettops': 1284, 'given': 1285, 'gaunt': 1286, 'luxuriating': 1287, 'beast': 1288, 'en': 1289, 'masse': 1290, 'gives': 1291, 'glimpses': 1292, 'journeyed': 1293, 'hyacinthine': 1294, 'isle': 1295, 'purple': 1296, 'zante': 1297, 'silverysilken': 1298, 'veil': 1299, 'divine': 1300, 'stately': 1301, 'lair': 1302, 'lion': 1303, 'tail': 1304, 'headed': 1305, 'for—': 1306, 'around': 1307, 'rare': 1308, 'zealous': 1309, 'ones': 1310, 'laborious': 1311, 'device': 1312, 'italian': 1313, 'tones': 1314, 'murmured': 1315, 'text': 1316, 'bidden': 1317, 'news': 1318, 'maybe': 1319, 'glory': 1320, 'iron': 1321, 'woe': 1322, 'sublime': 1323, 'hope': 1324, 'dispose': 1325, 'tin': 1326, 'box': 1327, 'cupboard': 1328, 'shelf': 1329, 'hadnt': 1330, 'fingerbone': 1331, 'north': 1332, 'south': 1333, 'country': 1334, 'atmosphere': 1335, 'different': 1336, 'tone': 1337, 'striven': 1338, 'allowed': 1339, 'upside': 1340, 'blandishments': 1341, 'defied': 1342, 'cross': 1343, 'lots': 1344, 'travellers': 1345, 'owe': 1346, 'most': 1347, 'gratitude': 1348, 'surest': 1349, 'thing': 1350, 'riders': 1351, 'oho': 1352, 'lupine': 1353, 'sand': 1354, 'drouth': 1355, 'halfpast': 1356, 'three': 1357, 'moment': 1358, 'balancing': 1359, 'emotion': 1360, 'tells': 1361, 'written': 1362, 'sister': 1363, 'warrant': 1364, 'flattered': 1365, 'towns': 1366, 'fighting': 1367, 'virtue': 1368, 'humanity': 1369, 'greatness': 1370, 'stint': 1371, 'teased': 1372, 'wants': 1373, 'furthest': 1374, 'bodies': 1375, 'orchid': 1376, 'calypso': 1377, 'rule': 1378, 'each': 1379, 'arm': 1380, 'youd': 1381, 'mans': 1382, 'killed': 1383, 'dead': 1384, 'asked': 1385, 'vacuum': 1386, 'filmy': 1387, 'venuses': 1388, 'unextinguished': 1389, 'alas': 1390, 'magical': 1391, 'sad': 1392, 'settle': 1393, 'hence': 1394, 'pendulous': 1395, 'rights': 1396, 'temptation': 1397, 'wouldnt': 1398, 'bareback': 1399, 'suppose': 1400, 'wheels': 1401, 'hang': 1402, 'fête': 1403, 'nine': 1404, 'swarm': 1405, 'rock': 1406, 'scarce': 1407, 'prize': 1408, 'tasted': 1409, 'desire': 1410, 'tonight': 1411, 'harness': 1412, 'entablatures': 1413, 'intertwine': 1414, 'riches': 1415, 'drawn': 1416, 'mossy': 1417, 'banks': 1418, 'meandering': 1419, 'paths': 1420, 'cock': 1421, 'twentyfive': 1422, 'bet': 1423, 'huse': 1424, 'cribber': 1425, 'gnawed': 1426, 'fountain': 1427, 'timeeaten': 1428, 'tremble': 1429, 'pipes': 1430, 'smoking': 1431, 'jug': 1432, 'theirs': 1433, 'interlock': 1434, 'lavas': 1435, 'restlessly': 1436, 'softly': 1437, 'rattling': 1438, 'subsides': 1439, 'guessed': 1440, 'theyd': 1441, 'cane': 1442, 'knock': 1443, 'tempted': 1444, 'gloom': 1445, 'mormon': 1446, 'swimming': 1447, 'wonted': 1448, 'besides': 1449, 'mad': 1450, 'youve': 1451, 'gnaw': 1452, 'posts': 1453, 'please': 1454, 'chimney': 1455, 'whatever': 1456, 'cost': 1457, 'apiece': 1458, 'pound': 1459, 'cased': 1460, 'world': 1461, 'faster': 1462, 'slower': 1463, 'chanced': 1464, 'angels': 1465, 'moonlit': 1466, 'ecstasies': 1467, 'conquered': 1468, 'scruples': 1469, 'walked': 1470, 'sunday': 1471, 'riddle': 1472, 'genealogy': 1473, 'inquired': 1474, 'proof': 1475, 'case': 1476, 'wait': 1477, 'marshall': 1478, 'adoring': 1479, 'airs': 1480, 'marked': 1481, 'creases': 1482, 'snapped': 1483, 'strangeness': 1484, 'sweetest': 1485, 'gods': 1486, 'creatures': 1487, 'sees': 1488, 'worse': 1489, 'fight': 1490, 'desert': 1491, 'temples': 1492, 'graves': 1493, 'worry': 1494, 'strain': 1495, 'ice': 1496, 'clothes': 1497, 'sank': 1498, 'grief': 1499, 'loves': 1500, 'grownup': 1501, 'governor': 1502, 'nodded': 1503, 'lipbegotten': 1504, 'moving': 1505, 'musically': 1506, 'guess': 1507, 'enshrined': 1508, 'nowhere': 1509, 'watering': 1510, 'bade': 1511, 'pause': 1512, 'gardengate': 1513, 'ultimate': 1514, 'climes': 1515, 'stole': 1516, 'reply': 1517, 'hers': 1518, 'intelligence': 1519, 'merry': 1520, 'beats': 1521, 'coupling': 1522, 'clasps': 1523, 'laughed': 1524, 'swamp': 1525, 'cedar': 1526, 'choked': 1527, 'oil': 1528, 'odorous': 1529, 'ecstatic': 1530, 'death': 1531, 'fancied': 1532, 'six': 1533, 'blade': 1534, 'entwine': 1535, 'read': 1536, 'content': 1537, 'budinspecting': 1538, 'presume': 1539, 'adding': 1540, 'frost': 1541, 'uplifting': 1542, 'finger': 1543, 'raises': 1544, 'trying': 1545, 'pull': 1546, 'apart': 1547, 'glass': 1548, 'ladder': 1549, 'seraph': 1550, 'spread': 1551, 'pinion': 1552, 'face': 1553, 'olden': 1554, 'gentlest': 1555, 'gentle': 1556, 'names': 1557, 'dost': 1558, 'blame': 1559, 'birch': 1560, 'boughs': 1561, 'piled': 1562, 'everywhere—': 1563, 'ten': 1564, 'eve': 1565, 'theyll': 1566, 'becoming': 1567, 'reconciled': 1568, 'fever': 1569, 'minute': 1570, 'odors': 1571, 'wish': 1572, 'lookoff': 1573, 'faced': 1574, 'hail': 1575, 'presence': 1576, 'morning': 1577, 'expense': 1578, 'expired': 1579, 'less': 1580, 'tinkling': 1581, 'further': 1582, 'unearthly': 1583, 'height': 1584, 'hen': 1585, 'fix': 1586, 'invisible': 1587, 'immemorial': 1588, 'situation': 1589, 'despairs': 1590, 'unhallowed': 1591, 'weve': 1592, 'hideous': 1593, 'throng': 1594, 'rush': 1595, 'forever': 1596, 'reckon': 1597, 'cousinship': 1598, 'recognize': 1599, 'driven': 1600, 'swollen': 1601, 'alterest': 1602, 'peering': 1603, 'wave': 1604, 'ripple': 1605, 'banners': 1606, 'glorious': 1607, 'plumes': 1608, 'hardest': 1609, 'hue': 1610, 'stripped': 1611, 'torn': 1612, 'naiad': 1613, 'flood': 1614, 'reclining': 1615, 'hands': 1616, 'henceforth': 1617, 'flowerenameled': 1618, 'shore': 1619, 'tight': 1620, 'laugh': 1621, 'smile': 1622, 'i—': 1623, 'rolls': 1624, 'ether': 1625, 'sighs': 1626, 'real': 1627, 'trouble': 1628, 'satisfy': 1629, 'spilled': 1630, 'toward': 1631, 'duty': 1632, 'saved': 1633, 'treat': 1634, 'due': 1635, 'respect': 1636, 'visions': 1637, 'consult': 1638, 'ride': 1639, 'magic': 1640, 'exist': 1641, 'unwilling': 1642, 'explain': 1643, 'chandelier': 1644, 'moosilauke': 1645, 'signs': 1646, 'seats': 1647, 'piercing': 1648, 'beaded': 1649, 'tremulous': 1650, 'leak': 1651, 'emptied': 1652, 'tho': 1653, 'plain': 1654, 'double': 1655, 'tended': 1656, 'herself': 1657, 'prove': 1658, 'instead': 1659, 'dalton': 1660, 'fortune': 1661, 'waterside': 1662, 'return': 1663, 'lovelight': 1664, 'wilderness': 1665, 'hate': 1666, 'maiden': 1667, 'heres': 1668, 'hoping': 1669, 'drink': 1670, 'upstairs': 1671, 'wildest': 1672, 'mount': 1673, 'horse': 1674, 'traveler': 1675, 'lady': 1676, 'swellings': 1677, 'hint': 1678, 'earthly': 1679, 'neednt': 1680, 'stars': 1681, 'forth': 1682, 'liked': 1683, 'bathe': 1684, 'crystalline': 1685, 'sorrowfully': 1686, 'force': 1687, 'strait': 1688, 'dallied': 1689, 'eased': 1690, 'copy': 1691, 'dwell': 1692, 'root': 1693, 'needed': 1694, 'warrens': 1695, 'told': 1696, 'figures': 1697, 'described': 1698, 'dig': 1699, 'signify': 1700, 'cars': 1701, 'worn': 1702, 'cool': 1703, 'folks': 1704, 'arent': 1705, 'afraid': 1706, 'serenest': 1707, 'continually': 1708, 'playthings': 1709, 'children': 1710, 'takes': 1711, 'cast': 1712, 'french': 1713, 'indian': 1714, 'esquimaux': 1715, 'feel': 1716, 'easier': 1717, 'celebrating': 1718, 'creaking': 1719, 'simple': 1720, 'meet': 1721, 'watchman': 1722, 'beat': 1723, 'realms': 1724, 'boreal': 1725, 'studying': 1726, 'stretch': 1727, 'highest': 1728, 'feat': 1729, 'theyre': 1730, 'worth': 1731, 'followed': 1732, 'mile': 1733, 'publisher': 1734, 'henry': 1735, 'hudsons': 1736, 'warn': 1737, 'serial': 1738, 'ordeal': 1739, 'flying': 1740, 'silent': 1741, 'fervour': 1742, 'rejected': 1743, 'winged': 1744, 'odour': 1745, 'wed': 1746, 'ourselves': 1747, 'israfelis': 1748, 'impulse': 1749, 'disturbed': 1750, 'beasts': 1751, 'goodbye': 1752, 'weight': 1753, 'snows': 1754, 'full': 1755, 'lank': 1756, 'shivery': 1757, 'halfdrowned': 1758, 'ceasing': 1759, 'hymns': 1760, 'attend': 1761, 'spell': 1762, 'outside': 1763, 'doors': 1764, 'weak': 1765, 'lines': 1766, 'shattered': 1767, 'underneath': 1768, 'pine': 1769, 'published': 1770, 'groan': 1771, 'acquaintance': 1772, 'adventurously': 1773, 'early': 1774, 'mormons': 1775, 'settlement': 1776, 'whod': 1777, 'heman': 1778, 'lapish': 1779, 'eddy': 1780, 'toppling': 1781, 'elfin': 1782, 'green': 1783, 'pale': 1784, 'perfumed': 1785, 'deal': 1786, 'masonry': 1787, 'sadly': 1788, 'mistrust': 1789, 'uncomfortably': 1790, 'crunching': 1791, 'blowing': 1792, 'bewitched': 1793, 'longer': 1794, 'agreed': 1795, 'lest': 1796, 'truant': 1797, 'knowing': 1798, 'leads': 1799, 'song': 1800, 'doorsill': 1801, 'corner': 1802, 'piece': 1803, 'nova': 1804, 'source': 1805, 'demon': 1806, 'lighting': 1807, 'lonely': 1808, 'pathway': 1809, 'idols': 1810, 'diamond': 1811, 'shifted': 1812, 'verdant': 1813, 'free': 1814, 'kick': 1815, 'vista': 1816, 'hangs': 1817, 'chains': 1818, 'pearl': 1819, 'hermon': 1820, 'answering': 1821, 'solemn': 1822, 'peals': 1823, 'uplifted': 1824, 'incredulous': 1825, 'luck': 1826, 'oldbelievers': 1827, 'talking': 1828, 'chance': 1829, 'quite': 1830, 'rode': 1831, 'mowing': 1832, 'ended': 1833, 'bowers': 1834, 'whereat': 1835, 'queenly': 1836, 'lily': 1837, 'adown': 1838, 'dale': 1839, 'resignedly': 1840, 'beneath': 1841, 'slap': 1842, 'raised': 1843, 'closing': 1844, 'worlds': 1845, 'prospect': 1846, 'terminates': 1847, 'cousins': 1848, 'threshold': 1849, 'wideopen': 1850, 'gate': 1851, 'fences': 1852, 'vast': 1853, 'forms': 1854, 'move': 1855, 'fantastically': 1856, 'pearly': 1857, 'lustre': 1858, 'instant': 1859, 'disappeared': 1860, 'hoe': 1861, 'buggy': 1862, 'load': 1863, 'grain': 1864, 'slumbering': 1865, 'village': 1866, 'fond': 1867, 'viewing': 1868, 'nature': 1869, 'ready': 1870, 'bid': 1871, 'voted': 1872, 'sigmas': 1873, 'taus': 1874, 'sudden': 1875, 'movement': 1876, 'bodice': 1877, 'hay': 1878, 'rained': 1879, 'flowing': 1880, 'flashed': 1881, 'licked': 1882, 'upper': 1883, 'teeth': 1884, 'drew': 1885, 'passport': 1886, 'achilles': 1887, 'diomed': 1888, 'rest': 1889, 'shouting': 1890, 'edition': 1891, 'packing': 1892, 'beyond': 1893, 'seedpod': 1894, 'pacified': 1895, 'kissed': 1896, 'hog': 1897, 'reeve': 1898, 'sculturd': 1899, 'ivy': 1900, 'million': 1901, 'lizards': 1902, 'few': 1903, 'seriously': 1904, 'bearings': 1905, 'ledges': 1906, 'ruled': 1907, 'southeastnorthwest': 1908, 'elsewhere': 1909, 'gourd': 1910, 'grape': 1911, 'luxuriant': 1912, 'enamored': 1913, 'maintained': 1914, 'denied': 1915, 'miss': 1916, 'despite': 1917, 'jupiter': 1918, 'bent': 1919, 'undergrowth': 1920, 'troubling': 1921, 'granny': 1922, 'closes': 1923, 'technical': 1924, 'cards': 1925, 'anyone': 1926, 'unfortunately': 1927, 'kind': 1928, 'sometime': 1929, 'knob': 1930, 'offers': 1931, 'hinder': 1932, 'heartstrings': 1933, 'virgin': 1934, 'chases': 1935, 'lowes': 1936, 'baileys': 1937, 'chimneys': 1938, 'false': 1939, 'doubling': 1940, 'redoubling': 1941, 'twitter': 1942, 'memories': 1943, 'bricks': 1944, 'ruby': 1945, 'glowing': 1946, 'wake': 1947, 'sport': 1948, 'writer': 1949, 'sweep': 1950, 'darkest': 1951, 'misting': 1952, 'lets': 1953, 'blotting': 1954, 'utterly': 1955, 'dragged': 1956, 'law': 1957, 'courts': 1958, 'swish': 1959, 'others': 1960, 'sit': 1961, 'hourly': 1962, 'describing': 1963, 'rings': 1964, 'coat': 1965, 'seated': 1966, 'brushing': 1967, 'chalky': 1968, 'skull': 1969, 'fingers': 1970, 'again': 1971, 'distinct': 1972, 'duplicate': 1973, 'horn': 1974, 'lips': 1975, 'melody': 1976, 'carry—if': 1977, 'raining': 1978, 'fairylike': 1979, 'floats': 1980, 'safe': 1981, 'lovely': 1982, 'ranged': 1983, 'pushed': 1984, 'sproutlands': 1985, 'flourish': 1986, 'axe': 1987, 'misty': 1988, 'mid': 1989, 'region': 1990, 'seal': 1991, 'yelp': 1992, 'drear': 1993, 'grows': 1994, 'courage': 1995, 'buds': 1996, 'bloom': 1997, 'youre': 1998, 'legs': 1999, 'army': 2000, 'mule': 2001, 'sailed': 2002, 'black': 2003, 'irreverently': 2004, 'tower': 2005, 'tenanted': 2006, 'queer': 2007, 'burning': 2008, 'measures': 2009, 'suit': 2010, 'sends': 2011, 'rustle': 2012, 'rushes': 2013, 'obscured': 2014, 'youth': 2015, 'known': 2016, 'featherhammer': 2017, 'starry': 2018, 'choir': 2019, 'board': 2020, 'laid': 2021, 'dryshod': 2022, 'fervent': 2023, 'prayer': 2024, 'humble': 2025, 'promises': 2026, 'seraphic': 2027, 'glancing': 2028, 'stones': 2029, 'bushes': 2030, 'unretrieved': 2031, 'builder': 2032, 'building': 2033, 'hitched': 2034, 'cellarstairs': 2035, 'buy': 2036, 'frogs': 2037, 'peeping': 2038, 'shrill': 2039, 'budded': 2040, 'sovereignty': 2041, 'ancient': 2042, 'lore': 2043, 'lutes': 2044, 'welltuned': 2045, 'tempting': 2046, 'flatness': 2047, 'lead': 2048, 'cart': 2049, 'pair': 2050, 'revels': 2051, 'muffled': 2052, 'paused': 2053, 'rested': 2054, 'hook': 2055, 'deeptoned': 2056, 'ungodly': 2057, 'mask': 2058, 'viol': 2059, 'vine': 2060, 'lifting': 2061, 'forgot': 2062, 'scurf': 2063, 'plants': 2064, 'weary': 2065, 'overheated': 2066, 'purse': 2067, 'traveled': 2068, 'pallor': 2069, 'strangely': 2070, 'luminary': 2071, 'saint': 2072, 'mark': 2073, 'says': 2074, 'redder': 2075, 'glow': 2076, 'fault': 2077, 'husband': 2078, 'loved': 2079, 'tear': 2080, 'lid': 2081, 'reach': 2082, 'unblanketed': 2083, 'gazing': 2084, 'entranced': 2085, 'gorgeous': 2086, 'sign': 2087, 'spose': 2088, 'mallice': 2089, 'pit': 2090, 'digged': 2091, 'bluebells': 2092, 'gracing': 2093, 'tunnel': 2094, 'mouth': 2095, 'tying': 2096, 'learned': 2097, 'kinder': 2098, 'position': 2099, 'hands—': 2100, 'diana': 2101, 'fought': 2102, 'battle': 2103, 'clouds': 2104, 'trailing': 2105, 'moments': 2106, 'misted': 2107, 'dialect': 2108, 'apple': 2109, 'welcomed': 2110, 'lave': 2111, 'shoes': 2112, 'doing': 2113, 'truest': 2114, 'fervently': 2115, 'shutter': 2116, 'sadder': 2117, 'purport': 2118, 'grandsirs': 2119, 'blind': 2120, 'bound': 2121, 'israfel': 2122, 'halting': 2123, 'barrier': 2124, 'israfeli': 2125, 'despisest': 2126, 'fervid': 2127, 'flickering': 2128, 'torch': 2129, 'lit': 2130, 'quarrel': 2131, 'greenest': 2132, 'valleys': 2133, 'lift': 2134, 'daring': 2135, 'ambition': 2136, 'uncommonly': 2137, 'listen': 2138, 'lean': 2139, 'haunt': 2140, 'panther': 2141, 'marry': 2142, 'mess': 2143, 'for—montreal': 2144, 'silence': 2145, 'alls': 2146, 'mourn': 2147, 'morrow': 2148, 'smart': 2149, 'pumps': 2150, 'beading': 2151, 'loveless': 2152, 'flock': 2153, 'beloved': 2154, 'heroes': 2155, 'deathless': 2156, 'roam': 2157, 'revolving': 2158, 'scene': 2159, 'blend': 2160, 'turrets': 2161, 'shadows': 2162, 'ages': 2163, 'gigantically': 2164, 'drop': 2165, 'reins': 2166, 'friend': 2167, 'filled': 2168, 'cider': 2169, 'thirsty': 2170, 'rude': 2171, 'strife': 2172, 'mortal': 2173, 'invested': 2174, 'reasons': 2175, 'troop': 2176, 'echoes': 2177, 'spend': 2178, 'everyone': 2179, 'sought': 2180, 'precipitate': 2181, 'ghastly': 2182, 'deserted': 2183, 'fulllength': 2184, 'presented': 2185, 'land': 2186, 'happened': 2187, 'listening': 2188, 'choice': 2189, 'alias': 2190, 'lettered': 2191, 'quenching': 2192, 'fires': 2193, 'fence': 2194, 'range': 2195, 'sleeping': 2196, 'rocks': 2197, 'waterfall': 2198, 'sat': 2199, 'judgment': 2200, 'alder': 2201, 'starlight': 2202, 'pall': 2203, 'holding': 2204, 'none': 2205, 'pointed': 2206, 'pure': 2207, 'orbs': 2208, 'learn': 2209, 'four': 2210, 'yours': 2211, 'mine': 2212, 'branch': 2213, 'clime': 2214, 'destruction': 2215, 'deserves': 2216, 'roof': 2217, 'float': 2218, 'flow': 2219, 'childishness': 2220, 'everywhere': 2221, 'hardly': 2222, 'breathe': 2223, 'threw': 2224, 'wide': 2225, 'enter': 2226, 'merrily': 2227, 'motorcars': 2228, 'harmless': 2229, 'hears': 2230, 'flung': 2231, 'isles': 2232, 'blest': 2233, 'neighbour': 2234, 'broke': 2235, 'trance': 2236, 'suspicious': 2237, 'blushed': 2238, 'bloomed': 2239, 'stranger': 2240, 'broadboard': 2241, 'paneling': 2242, 'coasting': 2243, 'cottage': 2244, 'spot': 2245, 'unprotected': 2246, 'stock': 2247, 'petered': 2248, 'trapper': 2249, 'staying': 2250, 'speculation': 2251, 'intense': 2252, 'lonesome': 2253, 'sits': 2254, 'sings': 2255, 'ridgely': 2256, 'torrence': 2257, 'july': 2258, 'midnight': 2259, 'gnawing': 2260, 'whined': 2261, 'sincere': 2262, 'seize': 2263, 'catscradle': 2264, 'heat': 2265, 'slowly': 2266, 'hazes': 2267, 'girdle': 2268, 'ministers': 2269, 'slave': 2270, 'slightly': 2271, 'sinking': 2272, 'everybody': 2273, 'remoteness': 2274, 'hurry': 2275, 'unhitch': 2276, 'ye': 2277, 'avengers': 2278, 'libertys': 2279, 'wrongs': 2280, 'protection': 2281, 'ear': 2282, 'pianos': 2283, 'vigor': 2284, 'stumps': 2285, 'bleeding': 2286, 'imbued': 2287, 'dream': 2288, 'tamarind': 2289, 'craters': 2290, 'verge': 2291, 'manages': 2292, 'sing': 2293, 'wildly': 2294, 'partial': 2295, 'greatgrandmother': 2296, 'laurels': 2297, 'belong': 2298, 'hearts': 2299, 'passion': 2300, 'rid': 2301, 'furs': 2302, 'tending': 2303, 'suns': 2304, 'wizard': 2305, 'equally': 2306, 'captains': 2307, 'london': 2308, 'imported': 2309, 'harm': 2310, 'bow': 2311, 'nights': 2312, 'quickening': 2313, 'meridian': 2314, 'glare': 2315, 'avail': 2316, 'domes': 2317, 'spires': 2318, 'kingly': 2319, 'halls': 2320, 'sweets': 2321, 'sours': 2322, 'bead': 2323, 'self': 2324, 'station': 2325, 'rather': 2326, 'tip': 2327, 'brush': 2328, 'crooked': 2329, 'stroke': 2330, 'size': 2331, 'dangle': 2332, 'nailed': 2333, 'farmer': 2334, 'blaming': 2335, 'bank': 2336, 'fold': 2337, 'foreign': 2338, 'soft': 2339, 'dissyllables': 2340, 'chisel': 2341, 'enormous': 2342, 'glacier': 2343, 'dwelling': 2344, 'undo': 2345, 'resurrected': 2346, 'soulandbody': 2347, 'scars': 2348, 'especially': 2349, 'footstep': 2350, 'hated': 2351, 'slept': 2352, 'counts': 2353, 'ideals': 2354, 'inscription': 2355, 'mothers': 2356, 'facts': 2357, 'moisture': 2358, 'color': 2359, 'thicken': 2360, 'abouncing': 2361, 'swift': 2362, 'fountains': 2363, 'overflow': 2364, 'stroked': 2365, 'hornyhanded': 2366, 'kindness': 2367, 'backs': 2368, 'colonial': 2369, 'noise': 2370, 'lately': 2371, 'apathy': 2372, 'buttons': 2373, 'poured': 2374, 'lap': 2375, 'liquescent': 2376, 'manner': 2377, 'raspberries': 2378, 'hew': 2379, 'shape': 2380, 'axis': 2381, 'renewed': 2382, 'paint': 2383, 'experts': 2384, 'smith': 2385, 'called': 2386, 'nowadays': 2387, 'ocean': 2388, 'throbbing': 2389, 'cried': 2390, 'surely': 2391, 'pairs': 2392, 'firkins': 2393, 'doubts': 2394, 'step': 2395, 'farmhouse': 2396, 'familiar': 2397, 'build': 2398, 'clear': 2399, 'steeple': 2400, 'rays': 2401, 'dawn': 2402, 'goes': 2403, 'crosslegged': 2404, 'idleness': 2405, 'throve': 2406, 'speel': 2407, 'direct': 2408, 'except': 2409, 'poems': 2410, 'indians': 2411, 'myth': 2412, 'chicamoztoc': 2413, 'started': 2414, 'courting': 2415, 'remaining': 2416, 'aster': 2417, 'flower': 2418, 'close': 2419, 'mist': 2420, 'trap': 2421, 'scenes': 2422, 'departed': 2423, 'bliss': 2424, 'gems': 2425, 'tumultuous': 2426, 'outsiders': 2427, 'promised': 2428, 'cruel': 2429, 'profanation': 2430, 'grandchildren': 2431, 'surprised': 2432, 'fiftyfive': 2433, 'creation': 2434, 'scuttled': 2435, 'paddle': 2436, 'hellforleather': 2437, 'stillgoing': 2438, 'joints': 2439, 'use': 2440, 'unruffled': 2441, 'kneel': 2442, 'red': 2443, 'levin': 2444, 'fathom': 2445, 'embalmed': 2446, 'echoing': 2447, 'songs': 2448, 'nice': 2449, 'mosses': 2450, 'shouldnt': 2451, 'strong': 2452, 'baubles': 2453, 'harpstring': 2454, 'richer': 2455, 'wilder': 2456, 'diviner': 2457, 'purified': 2458, 'electric': 2459, 'scarlet': 2460, 'hoary': 2461, 'groans': 2462, 'endless': 2463, 'talktalk': 2464, 'lord': 2465, 'perish': 2466, 'twice': 2467, 'breeder': 2468, 'follow': 2469, 'desolate': 2470, 'fade': 2471, 'according': 2472, 'risk': 2473, 'bay': 2474, 'pay': 2475, 'discordant': 2476, 'western': 2477, 'couch': 2478, 'thundercloud': 2479, 'withdrawing': 2480, 'plunged': 2481, 'tyrant': 2482, 'steel': 2483, 'unimpassioned': 2484, 'again—': 2485, 'gnaws': 2486, 'stable': 2487, 'passer': 2488, 'verified': 2489, 'next': 2490, 'surer': 2491, 'push': 2492, 'moonbeam': 2493, 'thrill': 2494, 'kiss': 2495, 'neck': 2496, 'spare': 2497, 'neer': 2498, 'wouldst': 2499, 'wandering': 2500, 'lo': 2501, 'interrupted': 2502, 'cry': 2503, 'lies': 2504, 'charred': 2505, 'grove': 2506, 'orchard': 2507}\n"
          ]
        }
      ]
    },
    {
      "cell_type": "code",
      "source": [
        "#initialize A and pi matrices\n",
        "V = len(word2idx)\n",
        "\n",
        "#we have 2 classes. so 2 As and pis\n",
        "#ones for add-1 smoothing\n",
        "A0 = np.ones((V,V))\n",
        "pi0 = np.ones(V)\n",
        "\n",
        "A1 = np.ones((V,V))\n",
        "pi1 = np.ones(V)"
      ],
      "metadata": {
        "id": "CpzxRUNpUiHp"
      },
      "execution_count": 16,
      "outputs": []
    },
    {
      "cell_type": "code",
      "source": [
        "#compute counts for A and pi\n",
        "def compute_counts(text_as_int , A, pi):\n",
        "    for tokens in text_as_int: #text_as_int is a list of lists / tokens is a list of intergers (indeces)\n",
        "        last_idx = None\n",
        "        #now we enter the list which contains the indeces of single text lines\n",
        "        for idx in tokens:\n",
        "            #if token is the first word in the line\n",
        "            if last_idx == None: \n",
        "                pi[idx] += 1\n",
        "            else:\n",
        "                #the last word exists\n",
        "                A[last_idx , idx] += 1\n",
        "\n",
        "            #update last idx\n",
        "            last_idx = idx\n",
        "            \n"
      ],
      "metadata": {
        "id": "cDkHC-Dhuijs"
      },
      "execution_count": 17,
      "outputs": []
    },
    {
      "cell_type": "code",
      "source": [
        "compute_counts( [t for t, y in zip(train_text_int , Ytrain) if y == 0] , A0, pi0)\n",
        "compute_counts( [t for t, y in zip(train_text_int , Ytrain) if y == 1] , A1, pi1)\n",
        "\n",
        "#lets inspect\n",
        "plt.plot(pi0);\n",
        "plt.plot(pi1);"
      ],
      "metadata": {
        "colab": {
          "base_uri": "https://localhost:8080/",
          "height": 265
        },
        "id": "ACGUnCJLUot5",
        "outputId": "798432a2-cb3b-4728-d3fc-ae715da629ef"
      },
      "execution_count": 38,
      "outputs": [
        {
          "output_type": "display_data",
          "data": {
            "text/plain": [
              "<Figure size 432x288 with 1 Axes>"
            ],
            "image/png": "[encoded data removed]"
          },
          "metadata": {
            "needs_background": "light"
          }
        }
      ]
    },
    {
      "cell_type": "code",
      "source": [
        "#As and pis contain counts but we want probabilities\n",
        "A0 = A0 / A0.sum(axis=1, keepdims=True)\n",
        "pi0 = pi0 / pi0.sum(axis=0)\n",
        "A1 = A1 / A1.sum(axis=1, keepdims=True)\n",
        "pi1 = pi1 / pi1.sum(axis=0)"
      ],
      "metadata": {
        "id": "qJBxPC37zLKM"
      },
      "execution_count": 45,
      "outputs": []
    },
    {
      "cell_type": "code",
      "source": [
        "#log A and pi\n",
        "logA0 = np.log(A0)\n",
        "logpi0 = np.log(pi0)\n",
        "\n",
        "logA1 = np.log(A1)\n",
        "logpi1 = np.log(pi1)"
      ],
      "metadata": {
        "id": "-W0D82N4z47q"
      },
      "execution_count": 48,
      "outputs": []
    },
    {
      "cell_type": "code",
      "source": [
        "#compute priors\n",
        "count0 = sum(y==0 for y in Ytrain)\n",
        "count1 = sum(y==1 for y in Ytrain)\n",
        "total = len(Ytrain)\n",
        "\n",
        "p0 = count0 / total\n",
        "p1 = count1 / total\n",
        "\n",
        "logp0 = np.log(p0)\n",
        "logp1 = np.log(p1)\n",
        "\n",
        "count0, count1, total, p0, p1"
      ],
      "metadata": {
        "id": "DJoOERZh0lTm"
      },
      "execution_count": 65,
      "outputs": []
    },
    {
      "cell_type": "code",
      "source": [],
      "metadata": {
        "colab": {
          "base_uri": "https://localhost:8080/"
        },
        "id": "2kbVMSGD16k_",
        "outputId": "bd485249-53a7-4e4e-b116-34a9c27db813"
      },
      "execution_count": 66,
      "outputs": [
        {
          "output_type": "execute_result",
          "data": {
            "text/plain": [
              "(530, 1085, 1615, 0.3281733746130031, 0.6718266253869969)"
            ]
          },
          "metadata": {},
          "execution_count": 66
        }
      ]
    }
  ]
}